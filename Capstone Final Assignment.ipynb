{
    "cells": [
        {
            "cell_type": "markdown",
            "metadata": {},
            "source": "## Geographical distribution of venues in Buenos Aires City and its correlation with the value added per commune"
        },
        {
            "cell_type": "markdown",
            "metadata": {},
            "source": "In this notebook you will be able to see the different data collection, processing and visualization operations that were performed in order to have the results analyzed throughout the report. This notebook won't be structured as a report but rather as a document with all the steps, operations and transformations that have been done to the data. In order to read a more thorough analysis about this data please refer to the [report](https://docs.google.com/document/d/1QU99UWwxyQdBpGJGGIP9DPBVH75K5ismrHXUH80m7CY/edit?usp=sharing).\n"
        },
        {
            "cell_type": "markdown",
            "metadata": {},
            "source": "First we download a couple of libraries for geographic locations and map plotting respectively."
        },
        {
            "cell_type": "code",
            "execution_count": null,
            "metadata": {},
            "outputs": [],
            "source": "!pip install geopy\n!pip install folium"
        },
        {
            "cell_type": "markdown",
            "metadata": {},
            "source": "Here we import some relevant libraries that will be used throughout the notebook."
        },
        {
            "cell_type": "code",
            "execution_count": null,
            "metadata": {},
            "outputs": [],
            "source": "import requests\nimport pandas as pd\nimport numpy as np\nfrom geopy.geocoders import Nominatim\nimport folium\nimport matplotlib.cm as cm\nimport matplotlib.colors as colors\nfrom sklearn.cluster import KMeans"
        },
        {
            "cell_type": "markdown",
            "metadata": {},
            "source": "Here we get the Foursquare API information about venues in Buenos Aires, Argentina in JSON format. After that the information about name, location and categories is selected and stored into an array. Finally with the help of pandas we turn it into a dataframe. The total amount of venues is then displayed."
        },
        {
            "cell_type": "code",
            "execution_count": null,
            "metadata": {},
            "outputs": [],
            "source": "r = requests.get('https://api.foursquare.com/v2/venues/explore?near=Buenos%20Aires&limit=100&v=20200520&client_id=HNUUTNPHSEDUFHAXHQUO5JFYGABTZ4CLH1XOCJO14UHLJIBW&client_secret=WOHLD0PHKILZN1MCWVJTXL3TWBJH0AENXMSOKPXPRDK2ABKL')\nba_venues = r.json()['response']['groups'][0]['items']"
        },
        {
            "cell_type": "code",
            "execution_count": null,
            "metadata": {},
            "outputs": [],
            "source": "ba_venues_list = []\nfor v in ba_venues:\n    ba_venues_list.append([v['venue']['name'], v['venue']['location']['lat'], v['venue']['location']['lng'], v['venue']['categories'][0]['name']])"
        },
        {
            "cell_type": "code",
            "execution_count": null,
            "metadata": {},
            "outputs": [],
            "source": "ba_df = pd.DataFrame(ba_venues_list, columns=['Name', 'Latitude', 'Longitude', 'Category'])\nba_df.head(10)\nba_df.shape"
        },
        {
            "cell_type": "markdown",
            "metadata": {},
            "source": "A map plot is then generated from all the data of the different venues. "
        },
        {
            "cell_type": "code",
            "execution_count": null,
            "metadata": {},
            "outputs": [],
            "source": "address = 'Buenos Aires, AR'\ngeolocator = Nominatim(user_agent='ba_explorer')\nlocation = geolocator.geocode(address)\nlatitude = location.latitude\nlongitude = location.longitude\n\nba_map = folium.Map(location=[latitude, longitude], zoom_start=12)\n\nfor lat, lng, name, category in zip(ba_df['Latitude'], ba_df['Longitude'], ba_df['Name'], ba_df['Category']):\n    label = '{}, {}'.format(name, category)\n    label = folium.Popup(label, parse_html=True)\n    folium.CircleMarker(\n        [lat, lng],\n        radius=5,\n        popup=label,\n        color='blue',\n        fill=True,\n        fill_color='#3186cc',\n        fill_opacity=0.7,\n        parse_html=False).add_to(ba_map)  \n    \nba_map"
        },
        {
            "cell_type": "markdown",
            "metadata": {},
            "source": "Here we start processing the information for the clustering. First we drop the name and category columns in order to just have the latitude and longitude as dataframe columns. After that, the K-means algorithm is applied on the dataframe with K = 5 getting an array with the labels for all of the dataframe rows. We merge it with the original dataframe and plot it obtaining three main clusters with two outlier clusters."
        },
        {
            "cell_type": "code",
            "execution_count": null,
            "metadata": {},
            "outputs": [],
            "source": "ba_venues_coordinates = ba_df.drop(['Name', 'Category'], axis=1)\nba_venues_coordinates.head(10)"
        },
        {
            "cell_type": "code",
            "execution_count": null,
            "metadata": {},
            "outputs": [],
            "source": "kclusters = 5\nkmeans = KMeans(n_clusters=kclusters, random_state=0).fit(ba_venues_coordinates)\nkmeans.labels_[0:10]"
        },
        {
            "cell_type": "code",
            "execution_count": null,
            "metadata": {},
            "outputs": [],
            "source": "ba_df['Cluster Labels'] = kmeans.labels_\nba_df.head()"
        },
        {
            "cell_type": "code",
            "execution_count": null,
            "metadata": {},
            "outputs": [],
            "source": "# create map\nmap_clusters = folium.Map(location=[latitude, longitude], zoom_start=12)\n\n# set color scheme for the clusters\nx = np.arange(kclusters)\nys = [i + x + (i*x)**2 for i in range(kclusters)]\ncolors_array = cm.rainbow(np.linspace(0, 1, len(ys)))\nrainbow = [colors.rgb2hex(i) for i in colors_array]\n\n# add markers to the map\nmarkers_colors = []\nfor lat, lon, poi, cluster in zip(ba_df['Latitude'], ba_df['Longitude'], ba_df['Name'], ba_df['Cluster Labels']):\n    label = folium.Popup(str(poi) + ' Cluster ' + str(cluster), parse_html=True)\n    folium.CircleMarker(\n        [lat, lon],\n        radius=5,\n        popup=label,\n        color=rainbow[cluster-1],\n        fill=True,\n        fill_color=rainbow[cluster-1],\n        fill_opacity=0.7).add_to(map_clusters)\n       \nmap_clusters"
        },
        {
            "cell_type": "markdown",
            "metadata": {},
            "source": "In the following cells an Excel file with the apartments on sale in Buenos Aires in 2012 is downloaded, turned into a dataframe and processed to get the total amount of apartments on sale by commune."
        },
        {
            "cell_type": "code",
            "execution_count": null,
            "metadata": {},
            "outputs": [],
            "source": "ba_apartments = pd.read_excel('http://cdn.buenosaires.gob.ar/datosabiertos/datasets/departamentos-en-venta/departamentos-en-venta-2012.xlsx')"
        },
        {
            "cell_type": "code",
            "execution_count": null,
            "metadata": {},
            "outputs": [],
            "source": "res = ba_apartments.groupby('COMUNA').count()\nres.sort_values(by=['CALLE'], axis=0, ascending=False, inplace=True)\nres"
        }
    ],
    "metadata": {
        "kernelspec": {
            "display_name": "Python 3.6",
            "language": "python",
            "name": "python3"
        },
        "language_info": {
            "codemirror_mode": {
                "name": "ipython",
                "version": 3
            },
            "file_extension": ".py",
            "mimetype": "text/x-python",
            "name": "python",
            "nbconvert_exporter": "python",
            "pygments_lexer": "ipython3",
            "version": "3.6.9"
        }
    },
    "nbformat": 4,
    "nbformat_minor": 1
}