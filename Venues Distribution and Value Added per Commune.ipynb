{
    "cells": [
        {
            "cell_type": "markdown",
            "metadata": {
                "collapsed": true
            },
            "source": "## Geographical distribution of venues in Buenos Aires City and its correlation with the value added per commune"
        },
        {
            "cell_type": "markdown",
            "metadata": {},
            "source": "### Introduction\n\nThis study will try to explore the correlations between the different venue clusters in Buenos Aires and its correlation with the percentage of value added per commune. As a porte\u00f1o (born and raised in Buenos Aires) I can state that there are quite some prejudices and preconceptions about the relation between particular areas of the city and the quality of life that their residents have, therefore it's interesting to have some statistical and data science insights to contrast this ideas and contribute with some new knowledge about it.\n\nI consider this problem particularly relevant because hopefully it will give some light about an important topic that can help businesses to make decisions towards choosing a particular type of public and dediding a particular geographic location in order to address in a better way their customers' requests."
        },
        {
            "cell_type": "markdown",
            "metadata": {},
            "source": "### Data\n\nFor this report I will be using data from the Foursquare API about venues in Buenos Aires and will also be using data and information from an Argentinian report from 2012 about value added in Buenos Aires grouped by communes (gub)"
        },
        {
            "cell_type": "code",
            "execution_count": null,
            "metadata": {},
            "outputs": [],
            "source": ""
        }
    ],
    "metadata": {
        "kernelspec": {
            "display_name": "Python 3.6",
            "language": "python",
            "name": "python3"
        },
        "language_info": {
            "codemirror_mode": {
                "name": "ipython",
                "version": 3
            },
            "file_extension": ".py",
            "mimetype": "text/x-python",
            "name": "python",
            "nbconvert_exporter": "python",
            "pygments_lexer": "ipython3",
            "version": "3.6.9"
        }
    },
    "nbformat": 4,
    "nbformat_minor": 1
}